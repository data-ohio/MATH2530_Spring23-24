{
 "cells": [
  {
   "cell_type": "code",
   "execution_count": null,
   "id": "cc87977c",
   "metadata": {
    "deletable": false,
    "editable": false
   },
   "outputs": [],
   "source": [
    "# Initialize Otter\n",
    "import otter\n",
    "grader = otter.Notebook(\"hw13.ipynb\")"
   ]
  },
  {
   "cell_type": "markdown",
   "id": "1dca63a6",
   "metadata": {},
   "source": [
    "# Homework 13: Data Ethics: Laws and Discrimination"
   ]
  },
  {
   "cell_type": "markdown",
   "id": "b46d6eb0",
   "metadata": {},
   "source": [
    "<!-- BEGIN QUESTION -->\n",
    "\n",
    "**Question:** What is your name?"
   ]
  },
  {
   "cell_type": "markdown",
   "id": "96ff6b53",
   "metadata": {},
   "source": [
    "_Type your answer here, replacing this text._"
   ]
  },
  {
   "cell_type": "markdown",
   "id": "e5be0d8a",
   "metadata": {},
   "source": [
    "<!-- END QUESTION -->\n",
    "\n",
    "## 1. Laws and Regulations\n",
    "\n",
    "### 1.1 The European General Data Protection Regulation (GDPR)"
   ]
  },
  {
   "cell_type": "markdown",
   "id": "305538ba",
   "metadata": {},
   "source": [
    "<!-- BEGIN QUESTION -->\n",
    "\n",
    "**Question 1.1.1.**\n",
    "\n",
    "Under GDPR, how long can a business save personally identifying information in an archive?"
   ]
  },
  {
   "cell_type": "markdown",
   "id": "37b1379e",
   "metadata": {},
   "source": [
    "_Type your answer here, replacing this text._"
   ]
  },
  {
   "cell_type": "markdown",
   "id": "83e4c7d9",
   "metadata": {},
   "source": [
    "<!-- END QUESTION -->\n",
    "\n",
    "<!-- BEGIN QUESTION -->\n",
    "\n",
    "**Question 1.1.2.**\n",
    "\n",
    "Under GDPR, can a business collect and process personal data in order to save someone's life?"
   ]
  },
  {
   "cell_type": "markdown",
   "id": "8107e8ef",
   "metadata": {},
   "source": [
    "_Type your answer here, replacing this text._"
   ]
  },
  {
   "cell_type": "markdown",
   "id": "af01b833",
   "metadata": {},
   "source": [
    "<!-- END QUESTION -->\n",
    "\n",
    "<!-- BEGIN QUESTION -->\n",
    "\n",
    "**Question 1.1.3.**\n",
    "\n",
    "What is the right to erasure?"
   ]
  },
  {
   "cell_type": "markdown",
   "id": "abde0dac",
   "metadata": {},
   "source": [
    "_Type your answer here, replacing this text._"
   ]
  },
  {
   "cell_type": "markdown",
   "id": "7b82ab90",
   "metadata": {},
   "source": [
    "<!-- END QUESTION -->\n",
    "\n",
    "<!-- BEGIN QUESTION -->\n",
    "\n",
    "**Question 1.1.4.**\n",
    "\n",
    "What is the right to rectification?"
   ]
  },
  {
   "cell_type": "markdown",
   "id": "e171cedf",
   "metadata": {},
   "source": [
    "_Type your answer here, replacing this text._"
   ]
  },
  {
   "cell_type": "markdown",
   "id": "0364e14f",
   "metadata": {},
   "source": [
    "<!-- END QUESTION -->\n",
    "\n",
    "### 1.2 The California Privacy Rights Act (CPRA) of 2020"
   ]
  },
  {
   "cell_type": "markdown",
   "id": "323acd20",
   "metadata": {},
   "source": [
    "<!-- BEGIN QUESTION -->\n",
    "\n",
    "**Question 1.2.1.**\n",
    "\n",
    "Under the California Privacy Rights Act, how long can a business save personally identifying information in an archive?"
   ]
  },
  {
   "cell_type": "markdown",
   "id": "c1c0f30d",
   "metadata": {},
   "source": [
    "_Type your answer here, replacing this text._"
   ]
  },
  {
   "cell_type": "markdown",
   "id": "7cea4ec1",
   "metadata": {},
   "source": [
    "<!-- END QUESTION -->\n",
    "\n",
    "<!-- BEGIN QUESTION -->\n",
    "\n",
    "**Question 1.2.2.**\n",
    "\n",
    "Under the California Privacy Rights Act, do people have the right to stop businesses from using their race?"
   ]
  },
  {
   "cell_type": "markdown",
   "id": "1a761bea",
   "metadata": {},
   "source": [
    "_Type your answer here, replacing this text._"
   ]
  },
  {
   "cell_type": "markdown",
   "id": "4e1e1e0d",
   "metadata": {},
   "source": [
    "<!-- END QUESTION -->\n",
    "\n",
    "<!-- BEGIN QUESTION -->\n",
    "\n",
    "**Question 1.2.3.**\n",
    "\n",
    "Under the California Privacy Rights Act, do people have the right to to rectification?"
   ]
  },
  {
   "cell_type": "markdown",
   "id": "574cb1d7",
   "metadata": {},
   "source": [
    "_Type your answer here, replacing this text._"
   ]
  },
  {
   "cell_type": "markdown",
   "id": "9e913eb5",
   "metadata": {},
   "source": [
    "<!-- END QUESTION -->\n",
    "\n",
    "### 1.3 Privacy Rights in Ohio\n",
    "\n",
    "Neither the GDPR nor the CPRA apply in Ohio.\n",
    "Investigate what rights people in Ohio have."
   ]
  },
  {
   "cell_type": "markdown",
   "id": "fda5c5ce",
   "metadata": {},
   "source": [
    "<!-- BEGIN QUESTION -->\n",
    "\n",
    "**Question 1.3.1.**\n",
    "In Ohio, do people have the right to erasure?"
   ]
  },
  {
   "cell_type": "markdown",
   "id": "40723fde",
   "metadata": {},
   "source": [
    "_Type your answer here, replacing this text._"
   ]
  },
  {
   "cell_type": "markdown",
   "id": "507732cf",
   "metadata": {},
   "source": [
    "<!-- END QUESTION -->\n",
    "\n",
    "<!-- BEGIN QUESTION -->\n",
    "\n",
    "**Question 1.3.2.**\n",
    "In Ohio, do people have the right to rectification?"
   ]
  },
  {
   "cell_type": "markdown",
   "id": "ac9f9487",
   "metadata": {},
   "source": [
    "_Type your answer here, replacing this text._"
   ]
  },
  {
   "cell_type": "markdown",
   "id": "88b416b3",
   "metadata": {},
   "source": [
    "<!-- END QUESTION -->\n",
    "\n",
    "<!-- BEGIN QUESTION -->\n",
    "\n",
    "**Question 1.3.3.**\n",
    "What privacy right do people in Ohio have?"
   ]
  },
  {
   "cell_type": "markdown",
   "id": "649ed6fc",
   "metadata": {},
   "source": [
    "_Type your answer here, replacing this text._"
   ]
  },
  {
   "cell_type": "markdown",
   "id": "f489532e",
   "metadata": {},
   "source": [
    "<!-- END QUESTION -->\n",
    "\n",
    "### 1.4 Section 230 of the Communications Decency Act (CDA)"
   ]
  },
  {
   "cell_type": "markdown",
   "id": "89efa99d",
   "metadata": {},
   "source": [
    "<!-- BEGIN QUESTION -->\n",
    "\n",
    "**Question 1.4.1.**\n",
    "\n",
    "Under section 230 of the CDA, can you host a website on which other people post lies, post threats, or try to defraud others without you getting in trouble?"
   ]
  },
  {
   "cell_type": "markdown",
   "id": "4cf284cb",
   "metadata": {},
   "source": [
    "_Type your answer here, replacing this text._"
   ]
  },
  {
   "cell_type": "markdown",
   "id": "963eeeb7",
   "metadata": {},
   "source": [
    "<!-- END QUESTION -->\n",
    "\n",
    "<!-- BEGIN QUESTION -->\n",
    "\n",
    "**Question 1.4.2.**\n",
    "\n",
    "What are the benefits of having section 230 of the CDA as the law?"
   ]
  },
  {
   "cell_type": "markdown",
   "id": "cc27a475",
   "metadata": {},
   "source": [
    "_Type your answer here, replacing this text._"
   ]
  },
  {
   "cell_type": "markdown",
   "id": "74b830e1",
   "metadata": {},
   "source": [
    "<!-- END QUESTION -->\n",
    "\n",
    "## 2. Unfair Discrimination and Social Bias"
   ]
  },
  {
   "cell_type": "markdown",
   "id": "54d18faf",
   "metadata": {},
   "source": [
    "<!-- BEGIN QUESTION -->\n",
    "\n",
    "**Question 2.1.**\n",
    "\n",
    "What is *Algorithmic Bias*?"
   ]
  },
  {
   "cell_type": "markdown",
   "id": "c079b263",
   "metadata": {},
   "source": [
    "_Type your answer here, replacing this text._"
   ]
  },
  {
   "cell_type": "markdown",
   "id": "45fe9ae3",
   "metadata": {},
   "source": [
    "<!-- END QUESTION -->\n",
    "\n",
    "<!-- BEGIN QUESTION -->\n",
    "\n",
    "**Question 2.2.**\n",
    "\n",
    "What is *redlining*?\n",
    "Did redlining happen in the area where you grew up?"
   ]
  },
  {
   "cell_type": "markdown",
   "id": "fd8c07d9",
   "metadata": {},
   "source": [
    "_Type your answer here, replacing this text._"
   ]
  },
  {
   "cell_type": "markdown",
   "id": "afaea1e0",
   "metadata": {},
   "source": [
    "<!-- END QUESTION -->\n",
    "\n",
    "### 2.1 Hiring\n",
    "\n",
    "A company wants to hire people that it thinks will stay and be successful at that company. \n",
    "It collects data from the applications of people it hired 5 years ago, and labels each as successful, unsuccessful, or left.\n",
    "It then constructs a kNN classifier using these three classes."
   ]
  },
  {
   "cell_type": "markdown",
   "id": "d3f5b9c3",
   "metadata": {},
   "source": [
    "<!-- BEGIN QUESTION -->\n",
    "\n",
    "**Question 2.1.1.**\n",
    "\n",
    "What benefit could the company expect from using this classifier when making hiring decisions?"
   ]
  },
  {
   "cell_type": "markdown",
   "id": "eda4d930",
   "metadata": {},
   "source": [
    "_Type your answer here, replacing this text._"
   ]
  },
  {
   "cell_type": "markdown",
   "id": "b0554980",
   "metadata": {},
   "source": [
    "<!-- END QUESTION -->\n",
    "\n",
    "<!-- BEGIN QUESTION -->\n",
    "\n",
    "**Question 2.1.2.**\n",
    "\n",
    "How could using this classifier when making hiring decisions reinforce social biases?"
   ]
  },
  {
   "cell_type": "markdown",
   "id": "6a8d3244",
   "metadata": {},
   "source": [
    "_Type your answer here, replacing this text._"
   ]
  },
  {
   "cell_type": "markdown",
   "id": "e6bbbe43",
   "metadata": {},
   "source": [
    "<!-- END QUESTION -->\n",
    "\n",
    "<!-- BEGIN QUESTION -->\n",
    "\n",
    "**Question 2.1.3.**\n",
    "\n",
    "What could the company do to gain the benfits of using a classifier without reinforcing social biases?"
   ]
  },
  {
   "cell_type": "markdown",
   "id": "15caef75",
   "metadata": {},
   "source": [
    "_Type your answer here, replacing this text._"
   ]
  },
  {
   "cell_type": "markdown",
   "id": "9e2e4936",
   "metadata": {},
   "source": [
    "<!-- END QUESTION -->\n",
    "\n",
    "### 2.2 MATH Placement\n",
    "\n",
    "When students enter a university, they are given a Mathematics placement level, which determines which MATH courses they can enroll in initially. For example it determines whether they can start in Calculus or need to first take Pre-Calculus.\n",
    "\n",
    "For this simplified example, assume that the only two classes are Pre-Calculus and Calculus."
   ]
  },
  {
   "cell_type": "markdown",
   "id": "7d0df55f",
   "metadata": {},
   "source": [
    "<!-- BEGIN QUESTION -->\n",
    "\n",
    "**Question 2.2.1**\n",
    "\n",
    "University A requires students to take the [ACT](https://www.act.org/) standardized test and places them into Calculus if they score at least 30 on the Math portion of the ACT.\n",
    "\n",
    "What are the advantages and disadvantages of this method?\n",
    "Could it be biased toward or against some group?"
   ]
  },
  {
   "cell_type": "markdown",
   "id": "0845f88b",
   "metadata": {},
   "source": [
    "_Type your answer here, replacing this text._"
   ]
  },
  {
   "cell_type": "markdown",
   "id": "f828f5cf",
   "metadata": {},
   "source": [
    "<!-- END QUESTION -->\n",
    "\n",
    "<!-- BEGIN QUESTION -->\n",
    "\n",
    "**Question 2.2.2.**\n",
    "\n",
    "University B places student based only on their High School GPA.\n",
    "If they have at least 3.5, then they are placed into Calculus.\n",
    "\n",
    "What are the advantages and disadvantages of this method?\n",
    "Could it be biased toward or against some group?"
   ]
  },
  {
   "cell_type": "markdown",
   "id": "64aa844a",
   "metadata": {},
   "source": [
    "_Type your answer here, replacing this text._"
   ]
  },
  {
   "cell_type": "markdown",
   "id": "3272bb9a",
   "metadata": {},
   "source": [
    "<!-- END QUESTION -->\n",
    "\n",
    "<!-- BEGIN QUESTION -->\n",
    "\n",
    "**Question 2.2.3.**\n",
    "\n",
    "University C requires students to take the [ACT](https://www.act.org/) standardized test but also uses their High School GPA when placing them.\n",
    "\n",
    "Using recent students, they gathered data on their ACT score, GPA, and grade in Calculus. It looked something like\n",
    "\n",
    "| ACT   | GPA    | Grade |\n",
    "| ------ | ------ | ----- |\n",
    "| 24     | 3.6    | B+    |\n",
    "| 32     | 2.1    | D     |\n",
    "| ... | ... | ... |\n",
    "\n",
    "They constructed a multiple-regression model that used both `ACT` and `GPA` to predict the Grade (converted to 0-4 scale).\n",
    "(Thus, for example, a higher GPA could compensate for a lower ACT score.)\n",
    "They then place students into Calculus if their predicted grade is at least C (2.00).\n",
    "\n",
    "What are the advantages and disadvantages of this method?\n",
    "Could it be biased toward or against some group?"
   ]
  },
  {
   "cell_type": "markdown",
   "id": "b419969c",
   "metadata": {},
   "source": [
    "_Type your answer here, replacing this text._"
   ]
  },
  {
   "cell_type": "markdown",
   "id": "55da1516",
   "metadata": {},
   "source": [
    "<!-- END QUESTION -->\n",
    "\n",
    "<!-- BEGIN QUESTION -->\n",
    "\n",
    "**Question 2.2.4.**\n",
    "\n",
    "University D requires students to take the [ACT](https://www.act.org/) standardized test but also considers other information in their application (GPA, zip code, rating of their High School, gender, ...).\n",
    "\n",
    "Using recent students, they gathered data on their ACT score, other application information, and grade in Calculus. \n",
    "They constructed a multiple-regression model that used all the available information to predict the Grade (converted to 0-4 scale).\n",
    "They then place students into Calculus if their predicted grade is at least C (2.00).\n",
    "\n",
    "What are the advantages and disadvantages of this method?\n",
    "Could it be biased toward or against some group?"
   ]
  },
  {
   "cell_type": "markdown",
   "id": "856f208e",
   "metadata": {},
   "source": [
    "_Type your answer here, replacing this text._"
   ]
  },
  {
   "cell_type": "markdown",
   "id": "363dc91b",
   "metadata": {},
   "source": [
    "<!-- END QUESTION -->\n",
    "\n",
    "<!-- BEGIN QUESTION -->\n",
    "\n",
    "**Question 2.2.5.**\n",
    "\n",
    "If University D removed gender from their data, what other variables could possibly be used as a proxy for gender? "
   ]
  },
  {
   "cell_type": "markdown",
   "id": "5eeda2ad",
   "metadata": {},
   "source": [
    "_Type your answer here, replacing this text._"
   ]
  },
  {
   "cell_type": "markdown",
   "id": "80e2299a",
   "metadata": {},
   "source": [
    "<!-- END QUESTION -->\n",
    "\n",
    "### 2.3 Borrowed Scerarios\n",
    "\n",
    "Now we'll consider some [exercises](https://mdsr-book.github.io/mdsr2e/ch-ethics.html#ethics-exercises) from [Modern Data Science with R](https://mdsr-book.github.io/mdsr2e/).\n",
    "To avoid copyright violations, we will just give the problem number and start."
   ]
  },
  {
   "cell_type": "markdown",
   "id": "c4cf2219",
   "metadata": {},
   "source": [
    "<!-- BEGIN QUESTION -->\n",
    "\n",
    "**Question 2.3.1.**\n",
    "\n",
    "[Problem](https://mdsr-book.github.io/mdsr2e/ch-ethics.html#ethics-exercises) 2 (Medium): A data scientist compiled data ... "
   ]
  },
  {
   "cell_type": "markdown",
   "id": "37dd5a41",
   "metadata": {},
   "source": [
    "_Type your answer here, replacing this text._"
   ]
  },
  {
   "cell_type": "markdown",
   "id": "f0a40007",
   "metadata": {},
   "source": [
    "<!-- END QUESTION -->\n",
    "\n",
    "<!-- BEGIN QUESTION -->\n",
    "\n",
    "**Question 2.3.2.**\n",
    "\n",
    "[Problem](https://mdsr-book.github.io/mdsr2e/ch-ethics.html#ethics-exercises) 6 (Medium): A _Slate_ article... "
   ]
  },
  {
   "cell_type": "markdown",
   "id": "ce524801",
   "metadata": {},
   "source": [
    "_Type your answer here, replacing this text._"
   ]
  },
  {
   "cell_type": "markdown",
   "id": "93af7bf9",
   "metadata": {},
   "source": [
    "<!-- END QUESTION -->\n",
    "\n",
    "## Acknowledgements"
   ]
  },
  {
   "cell_type": "markdown",
   "id": "dea95f58",
   "metadata": {},
   "source": [
    "<!-- BEGIN QUESTION -->\n",
    "\n",
    "**Acknowledgements:**\n",
    "If you received help from any person other than your instructor, then describe here what help you received and from whom. \n",
    "If not, then say 'None'."
   ]
  },
  {
   "cell_type": "markdown",
   "id": "e3a73506",
   "metadata": {},
   "source": [
    "_Type your answer here, replacing this text._"
   ]
  },
  {
   "cell_type": "markdown",
   "id": "c97ee3fd",
   "metadata": {},
   "source": [
    "<!-- END QUESTION -->\n",
    "\n",
    "It is forbidden to: \n",
    "* Use the work or programs from students who took this class (in any of its versions at any university).\n",
    "* Use websites that claim to have solutions for this class (in any of its versions at any university).\n",
    "* Directly copy from a classmate.\n",
    "\n",
    "**Did you do anything forbidden while working on this assignment?**\n",
    "\n",
    "Assign `did_forbidden` to either `True` or `False`."
   ]
  },
  {
   "cell_type": "code",
   "execution_count": null,
   "id": "554aeba4",
   "metadata": {
    "tags": []
   },
   "outputs": [],
   "source": [
    "did_forbidden = ..."
   ]
  },
  {
   "cell_type": "code",
   "execution_count": null,
   "id": "25efcfb2",
   "metadata": {
    "deletable": false,
    "editable": false
   },
   "outputs": [],
   "source": [
    "grader.check(\"q_forbidden\")"
   ]
  },
  {
   "cell_type": "markdown",
   "id": "244c6d71",
   "metadata": {
    "deletable": false,
    "editable": false
   },
   "source": [
    "## Submission\n",
    "\n",
    "Make sure you have run all cells in your notebook in order before running the cell below, so that all images/graphs appear in the output. The cell below will generate a zip file for you to submit. **Please save before exporting!**\n",
    "\n",
    "After saving and exporting, submit the .zip file in BlackBoard"
   ]
  },
  {
   "cell_type": "code",
   "execution_count": null,
   "id": "e75fcbf0",
   "metadata": {
    "deletable": false,
    "editable": false
   },
   "outputs": [],
   "source": [
    "# Save your notebook first, then run this cell to export your submission.\n",
    "grader.export(run_tests=True)"
   ]
  },
  {
   "cell_type": "markdown",
   "id": "c4a5b1d8",
   "metadata": {},
   "source": [
    " "
   ]
  }
 ],
 "metadata": {
  "kernelspec": {
   "display_name": "Python 3 (ipykernel)",
   "language": "python",
   "name": "python3"
  },
  "language_info": {
   "codemirror_mode": {
    "name": "ipython",
    "version": 3
   },
   "file_extension": ".py",
   "mimetype": "text/x-python",
   "name": "python",
   "nbconvert_exporter": "python",
   "pygments_lexer": "ipython3",
   "version": "3.10.6"
  },
  "otter": {
   "OK_FORMAT": true,
   "tests": {
    "q_forbidden": {
     "name": "q_forbidden",
     "points": null,
     "suites": [
      {
       "cases": [
        {
         "code": ">>> did_forbidden in [True,False]\nTrue",
         "hidden": false,
         "locked": false
        }
       ],
       "scored": true,
       "setup": "",
       "teardown": "",
       "type": "doctest"
      }
     ]
    }
   }
  }
 },
 "nbformat": 4,
 "nbformat_minor": 5
}
