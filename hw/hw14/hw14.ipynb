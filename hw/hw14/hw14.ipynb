{
 "cells": [
  {
   "cell_type": "code",
   "execution_count": null,
   "id": "2a8262ff",
   "metadata": {
    "deletable": false,
    "editable": false
   },
   "outputs": [],
   "source": [
    "# Initialize Otter\n",
    "import otter\n",
    "grader = otter.Notebook(\"hw14.ipynb\")"
   ]
  },
  {
   "cell_type": "markdown",
   "id": "66692c8c",
   "metadata": {},
   "source": [
    "# Homework 14: Data Ethics: Transparency and Sampling Bias"
   ]
  },
  {
   "cell_type": "markdown",
   "id": "74905452",
   "metadata": {},
   "source": [
    "<!-- BEGIN QUESTION -->\n",
    "\n",
    "**Question:** What is your name?"
   ]
  },
  {
   "cell_type": "markdown",
   "id": "dff9117e",
   "metadata": {},
   "source": [
    "_Type your answer here, replacing this text._"
   ]
  },
  {
   "cell_type": "markdown",
   "id": "32390cee",
   "metadata": {},
   "source": [
    "<!-- END QUESTION -->\n",
    "\n"
   ]
  },
  {
   "cell_type": "code",
   "execution_count": null,
   "id": "81ae2ad7",
   "metadata": {
    "ExecuteTime": {
     "end_time": "2018-04-04T09:34:44.498842Z",
     "start_time": "2018-04-04T09:34:42.821921Z"
    }
   },
   "outputs": [],
   "source": [
    "# Don't change this cell; just run it. \n",
    "\n",
    "import numpy as np\n",
    "from datascience import *\n",
    "\n",
    "# These lines do some fancy plotting magic.\n",
    "import matplotlib\n",
    "%matplotlib inline\n",
    "import matplotlib.pyplot as plt\n",
    "plt.style.use('fivethirtyeight')\n",
    "import warnings\n",
    "warnings.simplefilter('ignore', FutureWarning)"
   ]
  },
  {
   "cell_type": "markdown",
   "id": "a94d60e5",
   "metadata": {},
   "source": [
    "## 1. Transparency of Methods and Analysis"
   ]
  },
  {
   "cell_type": "markdown",
   "id": "064b4616",
   "metadata": {},
   "source": [
    "### 1.1 Data Dredging"
   ]
  },
  {
   "cell_type": "markdown",
   "id": "52e710f3",
   "metadata": {},
   "source": [
    "You meet this person who claims to have [telekinetic](https://en.wikipedia.org/wiki/Psychokinesis) powers that enables them to roll a 6 whenever they want on a standard 6-sided die. \n",
    "They pull out a die and proceed to roll five 6's in a row."
   ]
  },
  {
   "cell_type": "markdown",
   "id": "6b6c088b",
   "metadata": {},
   "source": [
    "**Question 1.1.1**\n",
    "Write a python expression for the probability of rolling five 6's in a row."
   ]
  },
  {
   "cell_type": "code",
   "execution_count": null,
   "id": "22b93fb7",
   "metadata": {
    "tags": []
   },
   "outputs": [],
   "source": [
    "five_6s = ...\n",
    "five_6s"
   ]
  },
  {
   "cell_type": "code",
   "execution_count": null,
   "id": "1d39e75d",
   "metadata": {
    "deletable": false,
    "editable": false
   },
   "outputs": [],
   "source": [
    "grader.check(\"q1_1_1\")"
   ]
  },
  {
   "cell_type": "markdown",
   "id": "1f43ca07",
   "metadata": {},
   "source": [
    "**Question 1.1.2** In scientific studies, it is common to say something is [statistically significant](https://en.wikipedia.org/wiki/Statistical_significance) if it has less than 5% chance of having happened randomly.\n",
    "By this standard, is the fact that this person rolled five 6's statistically significant?\n",
    "Assign `five6s_significant` to `True` or `False`."
   ]
  },
  {
   "cell_type": "code",
   "execution_count": null,
   "id": "93b4b05e",
   "metadata": {
    "tags": []
   },
   "outputs": [],
   "source": [
    "five6s_significant = ..."
   ]
  },
  {
   "cell_type": "code",
   "execution_count": null,
   "id": "ff78a6be",
   "metadata": {
    "deletable": false,
    "editable": false
   },
   "outputs": [],
   "source": [
    "grader.check(\"q1_1_2\")"
   ]
  },
  {
   "cell_type": "markdown",
   "id": "d8b23ec0",
   "metadata": {},
   "source": [
    "Your friend is intrigued by this result and sets out to find how many students at Ohio University have telekinetic powers.\n",
    "They get an undergraduate research grant and collect data by having 20,000 students roll five 6-sided dice while concentrating on rolling 6's.\n",
    "\n",
    "Below we simulate the results."
   ]
  },
  {
   "cell_type": "code",
   "execution_count": null,
   "id": "8e7a3491",
   "metadata": {},
   "outputs": [],
   "source": [
    "def one_roll_is_6():\n",
    "    \"\"\"simulate the roll of 1 die, returning True if it is a 6 and False otherwise\"\"\"\n",
    "    return np.random.choice(6)==5 # goes 0 to 5, so 5 means 6\n",
    "# simple test\n",
    "one_roll_is_6()"
   ]
  },
  {
   "cell_type": "code",
   "execution_count": null,
   "id": "779523b7",
   "metadata": {},
   "outputs": [],
   "source": [
    "def n_rolls_are_6s(n):\n",
    "    \"\"\"Simulate the rolling of n 6-sided dice, returning True if all are 6's and False otherwise\"\"\"\n",
    "    # roll n times, getting True/False\n",
    "    nrolls = [one_roll_is_6() for i in np.arange(n)]\n",
    "    # take the product, get 1 only if all were True\n",
    "    return np.product(nrolls)\n",
    "# simple test\n",
    "n_rolls_are_6s(2)"
   ]
  },
  {
   "cell_type": "code",
   "execution_count": null,
   "id": "32b85342",
   "metadata": {},
   "outputs": [],
   "source": [
    "number_of_trials = 20000\n",
    "rollers_5 = np.array([n_rolls_are_6s(5) for i in np.arange(number_of_trials)])\n",
    "print(\"Number who rolled five 6's:\",np.count_nonzero(rollers_5))"
   ]
  },
  {
   "cell_type": "markdown",
   "id": "f41f1381",
   "metadata": {},
   "source": [
    "<!-- BEGIN QUESTION -->\n",
    "\n",
    "**Question 1.1.3** How many students did you find with telekinetic powers?"
   ]
  },
  {
   "cell_type": "markdown",
   "id": "badfd9d2",
   "metadata": {},
   "source": [
    "_Type your answer here, replacing this text._"
   ]
  },
  {
   "cell_type": "markdown",
   "id": "f5c9919a",
   "metadata": {},
   "source": [
    "<!-- END QUESTION -->\n",
    "\n",
    "<!-- BEGIN QUESTION -->\n",
    "\n",
    "**Question 1.1.4** Your friend is about to post this result on social media and expects to become famous.\n",
    "Would you advise them to post it or reconsider?\n",
    "What flaws do you see in their methodology?"
   ]
  },
  {
   "cell_type": "markdown",
   "id": "6bf8e86c",
   "metadata": {},
   "source": [
    "_Type your answer here, replacing this text._"
   ]
  },
  {
   "cell_type": "markdown",
   "id": "c69359ab",
   "metadata": {},
   "source": [
    "<!-- END QUESTION -->\n",
    "\n",
    "### 1.2 Dissertations"
   ]
  },
  {
   "cell_type": "markdown",
   "id": "a2df70a1",
   "metadata": {},
   "source": [
    "<!-- BEGIN QUESTION -->\n",
    "\n",
    "**Question 1.2.1.**\n",
    "Suppose the data you collect contradicts the central claim in your doctoral dissertation.\n",
    "If you are not an ethical person, what could you do so you still get to graduate?"
   ]
  },
  {
   "cell_type": "markdown",
   "id": "b884dcfe",
   "metadata": {},
   "source": [
    "_Type your answer here, replacing this text._"
   ]
  },
  {
   "cell_type": "markdown",
   "id": "1b00f69a",
   "metadata": {},
   "source": [
    "<!-- END QUESTION -->\n",
    "\n",
    "<!-- BEGIN QUESTION -->\n",
    "\n",
    "**Question 1.2.2.**\n",
    "Suppose the data you collect contradicts the central claim in your doctoral dissertation.\n",
    "If you are an ethical person, what could you do so you still get to graduate?"
   ]
  },
  {
   "cell_type": "markdown",
   "id": "8c153f9c",
   "metadata": {},
   "source": [
    "_Type your answer here, replacing this text._"
   ]
  },
  {
   "cell_type": "markdown",
   "id": "16ab8278",
   "metadata": {},
   "source": [
    "<!-- END QUESTION -->\n",
    "\n",
    "### 1.3. Borrowed Scerario\n",
    "\n",
    "Now we'll consider an [exercise](https://mdsr-book.github.io/mdsr2e/ch-ethics.html#ethics-exercises) from [Modern Data Science with R](https://mdsr-book.github.io/mdsr2e/).\n",
    "To avoid copyright violations, we will just give the problem number and start."
   ]
  },
  {
   "cell_type": "markdown",
   "id": "e8f03545",
   "metadata": {},
   "source": [
    "<!-- BEGIN QUESTION -->\n",
    "\n",
    "**Question 2.2.**\n",
    "\n",
    "[Problem](https://mdsr-book.github.io/mdsr2e/ch-ethics.html#ethics-exercises) 5 (Medium): A reporter carried out a clinical trial of chocolate ...\n",
    "\n",
    "Note: The phrase\n",
    "> different in the treatment group than the outcome. \n",
    "\n",
    "should be\n",
    "> different in the treatment group than the control group. "
   ]
  },
  {
   "cell_type": "markdown",
   "id": "7901a6dc",
   "metadata": {},
   "source": [
    "_Type your answer here, replacing this text._"
   ]
  },
  {
   "cell_type": "markdown",
   "id": "4e149493",
   "metadata": {},
   "source": [
    "<!-- END QUESTION -->\n",
    "\n",
    "## 2. Sampling Bias"
   ]
  },
  {
   "cell_type": "markdown",
   "id": "c26a73b8",
   "metadata": {},
   "source": [
    "### 2.1 Types of Sampling Bias"
   ]
  },
  {
   "cell_type": "markdown",
   "id": "03c4f549",
   "metadata": {},
   "source": [
    "<!-- BEGIN QUESTION -->\n",
    "\n",
    "**Question 2.1.1.**\n",
    "Suppose that student evaluations of a course only include students who finished the course.\n",
    "Which type(s) of sampling bias would this introduce?"
   ]
  },
  {
   "cell_type": "markdown",
   "id": "896526f0",
   "metadata": {},
   "source": [
    "_Type your answer here, replacing this text._"
   ]
  },
  {
   "cell_type": "markdown",
   "id": "551a15a1",
   "metadata": {},
   "source": [
    "<!-- END QUESTION -->\n",
    "\n",
    "<!-- BEGIN QUESTION -->\n",
    "\n",
    "**Question 2.1.1.**\n",
    "Suppose someone conducts a poll on a local political issue by randomly calling phone numbers in their area code. \n",
    "Which type(s) of sampling bias would this introduce?"
   ]
  },
  {
   "cell_type": "markdown",
   "id": "cad8b73e",
   "metadata": {},
   "source": [
    "_Type your answer here, replacing this text._"
   ]
  },
  {
   "cell_type": "markdown",
   "id": "b14ed190",
   "metadata": {},
   "source": [
    "<!-- END QUESTION -->\n",
    "\n",
    "### 2.2 Randomized Response\n",
    "\n",
    "In this section we will simulate the use of a randomized response method in collecting survey data.\n",
    "The purpose of the method is to:\n",
    "* increase the accuracy of statistics about things that people may lie about due to embarrassment and/or\n",
    "* protect the privacy of individual in case the data is leaked or stolen.\n",
    "\n",
    "Suppose we want to know the answer to a Yes/No question, where people might be embarrassed to answer Yes, but would not be embarrassed to answer No.\n",
    "For our simulation, we will suppose that for 1/3 of the popuation, the true answer is Yes.\n",
    "Let's make a table with simulated results."
   ]
  },
  {
   "cell_type": "code",
   "execution_count": null,
   "id": "f3bcd537",
   "metadata": {},
   "outputs": [],
   "source": [
    "true_proportion = make_array(1/3,2/3)\n",
    "survey_size = 10000\n",
    "survey = Table().with_columns(\"ID\",np.arange(survey_size),\n",
    "                             \"Reality\",np.random.choice(['Yes','No'],size=survey_size,p=true_proportion))\n",
    "survey"
   ]
  },
  {
   "cell_type": "markdown",
   "id": "65e74f0e",
   "metadata": {},
   "source": [
    "We expect the proportion of Yes to be about 1/3."
   ]
  },
  {
   "cell_type": "code",
   "execution_count": null,
   "id": "f6ad145e",
   "metadata": {},
   "outputs": [],
   "source": [
    "survey.where('Reality','Yes').num_rows/survey_size"
   ]
  },
  {
   "cell_type": "markdown",
   "id": "18819bc9",
   "metadata": {},
   "source": [
    "For randomized response, the person responding needs something random, so we will have each of them flip a fair coin."
   ]
  },
  {
   "cell_type": "code",
   "execution_count": null,
   "id": "836feb47",
   "metadata": {
    "scrolled": true
   },
   "outputs": [],
   "source": [
    "survey_with_coin = survey.with_columns(\"Coin\",np.random.choice(['Heads','Tails'],size=survey_size))\n",
    "survey_with_coin"
   ]
  },
  {
   "cell_type": "markdown",
   "id": "934f4d47",
   "metadata": {},
   "source": [
    "For this basic version of randomized response, the instructions to the survey participant are:\n",
    "* If you got Heads, answer truthfully.\n",
    "* If you got Tails, answer Yes."
   ]
  },
  {
   "cell_type": "markdown",
   "id": "bda8556d",
   "metadata": {},
   "source": [
    "<!-- BEGIN QUESTION -->\n",
    "\n",
    "**Question 2.2.1** Why would adding this randomness make people more likely to answer truthfully when they get Heads? "
   ]
  },
  {
   "cell_type": "markdown",
   "id": "9595b715",
   "metadata": {},
   "source": [
    "_Type your answer here, replacing this text._"
   ]
  },
  {
   "cell_type": "markdown",
   "id": "51e05b3a",
   "metadata": {},
   "source": [
    "<!-- END QUESTION -->\n",
    "\n",
    "**Question 2.2.2** Given that the probability that the reality is Yes is 1/3, what is the probability that the response is Yes? \n",
    "Set `response_Yes_probability` to this value."
   ]
  },
  {
   "cell_type": "code",
   "execution_count": null,
   "id": "ec5df095",
   "metadata": {
    "tags": []
   },
   "outputs": [],
   "source": [
    "response_Yes_probability = ...\n",
    "response_Yes_probability"
   ]
  },
  {
   "cell_type": "code",
   "execution_count": null,
   "id": "98ac5b9b",
   "metadata": {
    "deletable": false,
    "editable": false
   },
   "outputs": [],
   "source": [
    "grader.check(\"q2_2_2\")"
   ]
  },
  {
   "cell_type": "markdown",
   "id": "9eb6a9d7",
   "metadata": {},
   "source": [
    "Here is a function that applies the instructions given to the survey participant."
   ]
  },
  {
   "cell_type": "code",
   "execution_count": null,
   "id": "f56c63a8",
   "metadata": {},
   "outputs": [],
   "source": [
    "def randomized_response(reality,coin):\n",
    "    if coin == 'Heads':\n",
    "        return reality\n",
    "    return 'Yes'\n",
    "randomized_response('No','Heads')"
   ]
  },
  {
   "cell_type": "markdown",
   "id": "75db9d54",
   "metadata": {},
   "source": [
    "**Question 2.2.3** Add a column to `survey_with_coin` containing the responses to the survey"
   ]
  },
  {
   "cell_type": "code",
   "execution_count": null,
   "id": "fb6237ac",
   "metadata": {
    "scrolled": true,
    "tags": []
   },
   "outputs": [],
   "source": [
    "response = ...\n",
    "survey_with_response = survey_with_coin.with_column('Response',response)\n",
    "survey_with_response"
   ]
  },
  {
   "cell_type": "code",
   "execution_count": null,
   "id": "81448736",
   "metadata": {
    "deletable": false,
    "editable": false
   },
   "outputs": [],
   "source": [
    "grader.check(\"q2_2_3\")"
   ]
  },
  {
   "cell_type": "markdown",
   "id": "12cd5b36",
   "metadata": {},
   "source": [
    "Now we can check the number of Yes responses received."
   ]
  },
  {
   "cell_type": "code",
   "execution_count": null,
   "id": "30ea1e54",
   "metadata": {},
   "outputs": [],
   "source": [
    "num_yes_responses = survey_with_response.where('Response','Yes').num_rows\n",
    "num_yes_responses"
   ]
  },
  {
   "cell_type": "markdown",
   "id": "ac2cbbe7",
   "metadata": {},
   "source": [
    "**Question 2.2.4** Based on `num_yes_responses`, what is the simulation's estimate for the proportion of Yes in the population? \n",
    "\n",
    "Set `Yes_proportion_estimate` to a python expression that evaluates to this value, using `num_yes_responses` and other quantitites that we have defined."
   ]
  },
  {
   "cell_type": "code",
   "execution_count": null,
   "id": "00535dc3",
   "metadata": {
    "tags": []
   },
   "outputs": [],
   "source": [
    "Yes_proportion_estimate = ...\n",
    "Yes_proportion_estimate "
   ]
  },
  {
   "cell_type": "code",
   "execution_count": null,
   "id": "32e31be0",
   "metadata": {
    "deletable": false,
    "editable": false
   },
   "outputs": [],
   "source": [
    "grader.check(\"q2_2_4\")"
   ]
  },
  {
   "cell_type": "markdown",
   "id": "3c85a908",
   "metadata": {},
   "source": [
    "## Acknowledgements"
   ]
  },
  {
   "cell_type": "markdown",
   "id": "fa415f7b",
   "metadata": {},
   "source": [
    "<!-- BEGIN QUESTION -->\n",
    "\n",
    "**Acknowledgements:**\n",
    "If you received help from any person other than your instructor, then describe here what help you received and from whom. \n",
    "If not, then say 'None'."
   ]
  },
  {
   "cell_type": "markdown",
   "id": "da2bcf10",
   "metadata": {},
   "source": [
    "_Type your answer here, replacing this text._"
   ]
  },
  {
   "cell_type": "markdown",
   "id": "b2b2aab5",
   "metadata": {},
   "source": [
    "<!-- END QUESTION -->\n",
    "\n",
    "It is forbidden to: \n",
    "* Use the work or programs from students who took this class (in any of its versions at any university).\n",
    "* Use websites that claim to have solutions for this class (in any of its versions at any university).\n",
    "* Directly copy from a classmate.\n",
    "\n",
    "**Did you do anything forbidden while working on this assignment?**\n",
    "\n",
    "Assign `did_forbidden` to either `True` or `False`."
   ]
  },
  {
   "cell_type": "code",
   "execution_count": null,
   "id": "dd664c07",
   "metadata": {
    "tags": []
   },
   "outputs": [],
   "source": [
    "did_forbidden = ..."
   ]
  },
  {
   "cell_type": "code",
   "execution_count": null,
   "id": "15b5e3ba",
   "metadata": {
    "deletable": false,
    "editable": false
   },
   "outputs": [],
   "source": [
    "grader.check(\"q_forbidden\")"
   ]
  },
  {
   "cell_type": "markdown",
   "id": "b7b36df4",
   "metadata": {
    "deletable": false,
    "editable": false
   },
   "source": [
    "## Submission\n",
    "\n",
    "Make sure you have run all cells in your notebook in order before running the cell below, so that all images/graphs appear in the output. The cell below will generate a zip file for you to submit. **Please save before exporting!**\n",
    "\n",
    "After saving and exporting, submit the .zip file in BlackBoard"
   ]
  },
  {
   "cell_type": "code",
   "execution_count": null,
   "id": "08e25a1f",
   "metadata": {
    "deletable": false,
    "editable": false
   },
   "outputs": [],
   "source": [
    "# Save your notebook first, then run this cell to export your submission.\n",
    "grader.export(run_tests=True)"
   ]
  },
  {
   "cell_type": "markdown",
   "id": "c4a69041",
   "metadata": {},
   "source": [
    " "
   ]
  }
 ],
 "metadata": {
  "kernelspec": {
   "display_name": "Python 3 (ipykernel)",
   "language": "python",
   "name": "python3"
  },
  "language_info": {
   "codemirror_mode": {
    "name": "ipython",
    "version": 3
   },
   "file_extension": ".py",
   "mimetype": "text/x-python",
   "name": "python",
   "nbconvert_exporter": "python",
   "pygments_lexer": "ipython3",
   "version": "3.10.6"
  },
  "otter": {
   "OK_FORMAT": true,
   "tests": {
    "q1_1_1": {
     "name": "q1_1_1",
     "points": null,
     "suites": [
      {
       "cases": [
        {
         "code": ">>> 0 < five_6s < 1 \nTrue",
         "hidden": false,
         "locked": false
        },
        {
         "code": ">>> five_6s < (1/6)**4\nTrue",
         "hidden": false,
         "locked": false
        }
       ],
       "scored": true,
       "setup": "",
       "teardown": "",
       "type": "doctest"
      }
     ]
    },
    "q1_1_2": {
     "name": "q1_1_2",
     "points": null,
     "suites": [
      {
       "cases": [
        {
         "code": ">>> five6s_significant in [True,False]\nTrue",
         "hidden": false,
         "locked": false
        }
       ],
       "scored": true,
       "setup": "",
       "teardown": "",
       "type": "doctest"
      }
     ]
    },
    "q2_2_2": {
     "name": "q2_2_2",
     "points": null,
     "suites": [
      {
       "cases": [
        {
         "code": ">>> 1/3 < response_Yes_probability < 1\nTrue",
         "hidden": false,
         "locked": false
        }
       ],
       "scored": true,
       "setup": "",
       "teardown": "",
       "type": "doctest"
      }
     ]
    },
    "q2_2_3": {
     "name": "q2_2_3",
     "points": null,
     "suites": [
      {
       "cases": [
        {
         "code": ">>> survey_with_response.labels == ('ID', 'Reality', 'Coin', 'Response')\nTrue",
         "hidden": false,
         "locked": false
        }
       ],
       "scored": true,
       "setup": "",
       "teardown": "",
       "type": "doctest"
      }
     ]
    },
    "q2_2_4": {
     "name": "q2_2_4",
     "points": null,
     "suites": [
      {
       "cases": [
        {
         "code": ">>> 0.2 < Yes_proportion_estimate < 0.5\nTrue",
         "hidden": false,
         "locked": false
        }
       ],
       "scored": true,
       "setup": "",
       "teardown": "",
       "type": "doctest"
      }
     ]
    },
    "q_forbidden": {
     "name": "q_forbidden",
     "points": null,
     "suites": [
      {
       "cases": [
        {
         "code": ">>> did_forbidden in [True,False]\nTrue",
         "hidden": false,
         "locked": false
        }
       ],
       "scored": true,
       "setup": "",
       "teardown": "",
       "type": "doctest"
      }
     ]
    }
   }
  }
 },
 "nbformat": 4,
 "nbformat_minor": 5
}
