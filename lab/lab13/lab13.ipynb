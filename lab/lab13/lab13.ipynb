{
 "cells": [
  {
   "cell_type": "code",
   "execution_count": null,
   "id": "b0f771f8",
   "metadata": {
    "deletable": false,
    "editable": false
   },
   "outputs": [],
   "source": [
    "# Initialize Otter\n",
    "import otter\n",
    "grader = otter.Notebook(\"lab13.ipynb\")"
   ]
  },
  {
   "cell_type": "markdown",
   "id": "b1b564bd",
   "metadata": {},
   "source": [
    "# Lab 13: k-Means Clustering"
   ]
  },
  {
   "cell_type": "code",
   "execution_count": null,
   "id": "6c45ffdd",
   "metadata": {},
   "outputs": [],
   "source": [
    "# Don't change this cell; just run it. \n",
    "import numpy as np\n",
    "from datascience import *\n",
    "import sklearn\n",
    "import sklearn.datasets\n",
    "import sklearn.cluster\n",
    "\n",
    "# These lines do some fancy plotting magic.\n",
    "import matplotlib\n",
    "%matplotlib inline\n",
    "import matplotlib.pyplot as plt\n",
    "plt.style.use('fivethirtyeight')\n",
    "import warnings\n",
    "warnings.simplefilter('ignore', FutureWarning)"
   ]
  },
  {
   "cell_type": "markdown",
   "id": "fc05dc71",
   "metadata": {},
   "source": [
    "**Comment on Randomness**\n",
    "\n",
    "Computer cannot really do random things.\n",
    "When we ask it to give a random number or make a random choice, it uses a [Pseudorandom number generator](https://en.wikipedia.org/wiki/Pseudorandom_number_generator) to produce something that is random-like.\n",
    "Such pseudorandom number generators start with a number called a `seed`.\n",
    "If you reset the seed manually, then you will always get the same random-like number.\n",
    "We use this fact in exercises so that your *random* objects are the same as the ones used when writing this assignment. The cells below illustrate how this works.\n"
   ]
  },
  {
   "cell_type": "code",
   "execution_count": null,
   "id": "bfc1a57b",
   "metadata": {},
   "outputs": [],
   "source": [
    "# set the seed and get a random-like number\n",
    "seed = 12345\n",
    "rng = np.random.default_rng(seed)\n",
    "rng.random()"
   ]
  },
  {
   "cell_type": "code",
   "execution_count": null,
   "id": "527fc5da",
   "metadata": {},
   "outputs": [],
   "source": [
    "# doing it again gives the same number\n",
    "seed = 12345\n",
    "rng = np.random.default_rng(seed)\n",
    "rng.random()"
   ]
  },
  {
   "cell_type": "code",
   "execution_count": null,
   "id": "cc16237c",
   "metadata": {},
   "outputs": [],
   "source": [
    "# without re-setting the seed, a new random-like number is given\n",
    "rng.random()"
   ]
  },
  {
   "cell_type": "code",
   "execution_count": null,
   "id": "28e853ae",
   "metadata": {},
   "outputs": [],
   "source": [
    "# without re-setting the seed, a new random-like number is given\n",
    "rng.random()"
   ]
  },
  {
   "cell_type": "markdown",
   "id": "7f78d9a6",
   "metadata": {},
   "source": [
    "## 1. One Cluster"
   ]
  },
  {
   "cell_type": "markdown",
   "id": "0be1cb70",
   "metadata": {},
   "source": [
    "Let's make a single cluster and visualize it."
   ]
  },
  {
   "cell_type": "code",
   "execution_count": null,
   "id": "a5fd2c8d",
   "metadata": {},
   "outputs": [],
   "source": [
    "X, true_labels = sklearn.datasets.make_blobs(n_samples=300, centers=1,\n",
    "                       cluster_std=0.60, random_state=0)\n",
    "one_tbl = Table().with_columns('x',X[:,0],'y',X[:,1])\n",
    "one_tbl.scatter('x','y',s=50)\n",
    "one_tbl"
   ]
  },
  {
   "cell_type": "markdown",
   "id": "b58dd7f3",
   "metadata": {},
   "source": [
    "We can ask `sklearn` to cluster our data.\n",
    "Using only 1 cluster, this is a bit silly, but works."
   ]
  },
  {
   "cell_type": "code",
   "execution_count": null,
   "id": "45a76e97",
   "metadata": {},
   "outputs": [],
   "source": [
    "kmeans = sklearn.cluster.KMeans(n_clusters=1)\n",
    "kmeans.fit(X)\n",
    "one_centers = kmeans.cluster_centers_\n",
    "one_center = one_centers[0]\n",
    "one_tbl.scatter('x','y',s=50)\n",
    "plt.scatter(one_center[0], one_center[1], c='red', s=200, alpha=0.5)\n",
    "one_center"
   ]
  },
  {
   "cell_type": "markdown",
   "id": "4a3b46e2",
   "metadata": {},
   "source": [
    "**Question 1.1.**\n",
    "\n",
    "Write a function to compute the mean of the coordinates. Then run it on `one_tbl`."
   ]
  },
  {
   "cell_type": "code",
   "execution_count": null,
   "id": "b6daaa9d",
   "metadata": {
    "tags": []
   },
   "outputs": [],
   "source": [
    "def mean_of_cluster(cluster_tbl):\n",
    "    x_mean = ...\n",
    "    y_mean = ...\n",
    "    return make_array(x_mean,y_mean)\n",
    "\n",
    "one_tbl_mean = mean_of_cluster(one_tbl)\n",
    "one_tbl_mean    "
   ]
  },
  {
   "cell_type": "code",
   "execution_count": null,
   "id": "7ed7b6ae",
   "metadata": {
    "deletable": false,
    "editable": false
   },
   "outputs": [],
   "source": [
    "grader.check(\"q1_1\")"
   ]
  },
  {
   "cell_type": "markdown",
   "id": "0550d66b",
   "metadata": {},
   "source": [
    "**Question 1.2**\n",
    "\n",
    "Is this mean the same as the center computed by `sklearn`?\n",
    "Set `center_is_mean` to `True` or `False`."
   ]
  },
  {
   "cell_type": "code",
   "execution_count": null,
   "id": "e8ca84c7",
   "metadata": {
    "tags": []
   },
   "outputs": [],
   "source": [
    "center_is_mean = ..."
   ]
  },
  {
   "cell_type": "code",
   "execution_count": null,
   "id": "65a43285",
   "metadata": {
    "deletable": false,
    "editable": false
   },
   "outputs": [],
   "source": [
    "grader.check(\"q1_2\")"
   ]
  },
  {
   "cell_type": "markdown",
   "id": "88cfc622",
   "metadata": {},
   "source": [
    "**Question 1.3**\n",
    "\n",
    "We can measure how spread out a cluster is by measuring the *Within Cluster Sum of Squares* (WCSS).\n",
    "If the coordinates of the points are $\\{(x_i,y_i)\\}$ and the coordinates of the center is $(x_*,y_*)$, then this is given by the formula\n",
    "$$ \\sum_i \\left((x_i-x_*)^2+(y_i-y_*)^2\\right)\\,.$$\n",
    "\n",
    "Write a function that computes the WCSS for a single cluster.\n"
   ]
  },
  {
   "cell_type": "code",
   "execution_count": null,
   "id": "4d05d37b",
   "metadata": {
    "tags": []
   },
   "outputs": [],
   "source": [
    "def within_cluster_sumof_squares(cluster_tbl,center):\n",
    "    x_data = cluster_tbl.column('x')\n",
    "    y_data = cluster_tbl.column('y')\n",
    "    x_center = center[0]\n",
    "    y_center = center[1]\n",
    "    x_distance_squared = ...\n",
    "    y_distance_squared = ...\n",
    "    sum_distance_squared = ...\n",
    "    return sum_distance_squared\n",
    "\n",
    "one_WCSS = within_cluster_sumof_squares(one_tbl,one_center)\n",
    "one_WCSS    "
   ]
  },
  {
   "cell_type": "code",
   "execution_count": null,
   "id": "6ae5c310",
   "metadata": {
    "deletable": false,
    "editable": false
   },
   "outputs": [],
   "source": [
    "grader.check(\"q1_3\")"
   ]
  },
  {
   "cell_type": "markdown",
   "id": "7bdbf590",
   "metadata": {},
   "source": [
    "The center chosen by k-means clustering minimizes the WCSS.\n",
    "In the following plot, we compute the WCSS for different proposed centers. "
   ]
  },
  {
   "cell_type": "code",
   "execution_count": null,
   "id": "3254a58f",
   "metadata": {},
   "outputs": [],
   "source": [
    "delta = 1\n",
    "x_pts = np.linspace(one_center[0]-delta,one_center[0]+delta,100)\n",
    "y_pts = np.linspace(one_center[1]-delta,one_center[1]+delta,100)\n",
    "z_wcss = np.array([[within_cluster_sumof_squares(one_tbl,(x,y)) for x in x_pts] for y in y_pts])\n",
    "plt.contour(x_pts,y_pts,z_wcss)\n",
    "plt.colorbar()\n",
    "plt.scatter(one_center[0], one_center[1], c='red', s=200, alpha=0.5)\n"
   ]
  },
  {
   "cell_type": "markdown",
   "id": "fa54309d",
   "metadata": {},
   "source": [
    "## 2. Four Clusters\n",
    "(This section is based on [In Depth: k-Means Clustering](https://jakevdp.github.io/PythonDataScienceHandbook/05.11-k-means.html).)\n",
    "\n",
    "Now let us try four clusters."
   ]
  },
  {
   "cell_type": "code",
   "execution_count": null,
   "id": "ac999314",
   "metadata": {},
   "outputs": [],
   "source": [
    "four_X, true_labels = sklearn.datasets.make_blobs(n_samples=300, centers=4,\n",
    "                       cluster_std=0.60, random_state=0)\n",
    "four_tbl = Table().with_columns('x',four_X[:,0],'y',four_X[:,1])\n",
    "four_tbl.scatter('x','y',s=50)"
   ]
  },
  {
   "cell_type": "markdown",
   "id": "6620b2e3",
   "metadata": {},
   "source": [
    "We can ask `sklearn` to make four clusters.\n",
    "In this case, the centers nicely match what we think the clusters should be."
   ]
  },
  {
   "cell_type": "code",
   "execution_count": null,
   "id": "5efced6f",
   "metadata": {},
   "outputs": [],
   "source": [
    "kmeans = sklearn.cluster.KMeans(n_clusters=4)\n",
    "kmeans.fit(four_X)\n",
    "four_centers = kmeans.cluster_centers_\n",
    "four_tbl.scatter('x','y',s=50)\n",
    "plt.scatter(four_centers[:,0], four_centers[:,1], c='red', s=200, alpha=0.5)\n",
    "four_centers"
   ]
  },
  {
   "cell_type": "markdown",
   "id": "2b0fd418",
   "metadata": {},
   "source": [
    "We can also find out to which cluster each point has been allocated.\n",
    "We will add this to our table."
   ]
  },
  {
   "cell_type": "code",
   "execution_count": null,
   "id": "27c10ccb",
   "metadata": {},
   "outputs": [],
   "source": [
    "four_tbl_clustered = four_tbl.with_column(\"cluster\",kmeans.predict(four_X))\n",
    "four_tbl_clustered"
   ]
  },
  {
   "cell_type": "markdown",
   "id": "66a406fc",
   "metadata": {},
   "source": [
    "We can then produce a nice plot colored by the cluster number."
   ]
  },
  {
   "cell_type": "code",
   "execution_count": null,
   "id": "25f54cbc",
   "metadata": {
    "scrolled": false
   },
   "outputs": [],
   "source": [
    "four_tbl_clustered.scatter(\"x\",\"y\",group=\"cluster\")\n",
    "plt.scatter(four_centers[:,0], four_centers[:,1], c='red', s=200, alpha=0.5)"
   ]
  },
  {
   "cell_type": "markdown",
   "id": "40ac4c01",
   "metadata": {},
   "source": [
    "**Question 2.1**\n",
    "\n",
    "Use the function `within_cluster_sumof_squares` that you wrote earlier to compute the WCSS for each cluster and return them as an array."
   ]
  },
  {
   "cell_type": "code",
   "execution_count": null,
   "id": "e7b242ea",
   "metadata": {
    "tags": []
   },
   "outputs": [],
   "source": [
    "def all_wcss(cluster_tbl,centers):\n",
    "    all_wcss = make_array()\n",
    "    for i in np.arange(len(centers)):\n",
    "        this_cluster_tbl = ...\n",
    "        this_center = ...\n",
    "        this_wcss = ...\n",
    "        all_wcss = np.append(all_wcss,this_wcss)\n",
    "    return all_wcss\n",
    "\n",
    "four_all_wcss = all_wcss(four_tbl_clustered,four_centers)\n",
    "four_all_wcss"
   ]
  },
  {
   "cell_type": "code",
   "execution_count": null,
   "id": "33f21648",
   "metadata": {
    "deletable": false,
    "editable": false
   },
   "outputs": [],
   "source": [
    "grader.check(\"q2_1\")"
   ]
  },
  {
   "cell_type": "markdown",
   "id": "956cdb3c",
   "metadata": {},
   "source": [
    "It is possible for the k-means clustering algorithm to get stuck in a local minimum and not find reasonable clusters."
   ]
  },
  {
   "cell_type": "code",
   "execution_count": null,
   "id": "30db22fd",
   "metadata": {
    "scrolled": false
   },
   "outputs": [],
   "source": [
    "kmeans2 = sklearn.cluster.KMeans(n_clusters=4,n_init=1,init=[[-1.37,7.75],[1.95,1.46],[-0.35,3.6],[2.01,0.44]])\n",
    "kmeans2.fit(four_X)\n",
    "four_centers2 = kmeans2.cluster_centers_\n",
    "four_tbl_clustered2 = four_tbl.with_column(\"cluster\",kmeans2.predict(four_X))\n",
    "four_tbl_clustered2.scatter(\"x\",\"y\",group=\"cluster\")\n",
    "plt.scatter(four_centers2[:,0], four_centers2[:,1], c='red', s=200, alpha=0.5)\n",
    "four_centers2"
   ]
  },
  {
   "cell_type": "markdown",
   "id": "bd4c0f0b",
   "metadata": {},
   "source": [
    "<!-- BEGIN QUESTION -->\n",
    "\n",
    "**Question 2.2**\n",
    "\n",
    "Compute `all_WCSS` for `four_tbl_clustered` and `four_tbl_clustered2`.\n",
    "What do these numbers tell you about which clustering worked better?"
   ]
  },
  {
   "cell_type": "markdown",
   "id": "7c590fd5",
   "metadata": {},
   "source": [
    "_Type your answer here, replacing this text._"
   ]
  },
  {
   "cell_type": "code",
   "execution_count": null,
   "id": "4bc7728e",
   "metadata": {
    "scrolled": false,
    "tags": []
   },
   "outputs": [],
   "source": [
    "all_wcss_four_tbl_clustered = ...\n",
    "all_wcss_four_tbl_clustered2 = ...\n",
    "\n",
    "print(\"clustered gives\",all_wcss_four_tbl_clustered)\n",
    "print(\"clustered2 gives\",all_wcss_four_tbl_clustered2)\n"
   ]
  },
  {
   "cell_type": "markdown",
   "id": "07a5bdb9",
   "metadata": {},
   "source": [
    "<!-- END QUESTION -->\n",
    "\n",
    "## 3. How Many Clusters?\n",
    "\n",
    "In the above sections, we knew how many clusters there should be, so we could specify how many to use.\n",
    "In general, one does not know how many clusters to use, and the data is in a high dimension so one cannot plot it to decide by eye.\n",
    "\n",
    "One way to decide is to look at the total WCSS. We can define a function to compute this, using the function `all_wcss` that you defined above."
   ]
  },
  {
   "cell_type": "code",
   "execution_count": null,
   "id": "7f67547f",
   "metadata": {},
   "outputs": [],
   "source": [
    "def total_WCSS(cluster_tbl,centers):\n",
    "    return sum(all_wcss(cluster_tbl,centers))"
   ]
  },
  {
   "cell_type": "markdown",
   "id": "c0818d5d",
   "metadata": {},
   "source": [
    "<!-- BEGIN QUESTION -->\n",
    "\n",
    "**Question 3.1**\n",
    "\n",
    "Plot the total WCSS as a function of k, using the data that we know has 4 clusters."
   ]
  },
  {
   "cell_type": "code",
   "execution_count": null,
   "id": "247f53de",
   "metadata": {
    "scrolled": false,
    "tags": []
   },
   "outputs": [],
   "source": [
    "klist = [1,2,3,4,5,6,7]\n",
    "WCSS_array = make_array()\n",
    "for k in klist:\n",
    "    this_kmeans = ...\n",
    "    this_kmeans.fit(four_X)\n",
    "    this_centers = this_kmeans.cluster_centers_\n",
    "    this_tbl_clustered = ...\n",
    "    this_total_WCSS = ...\n",
    "    WCSS_array = np.append(WCSS_array,this_total_WCSS)\n",
    "plt.plot(klist,WCSS_array)\n",
    "plt.ylim([0,plt.ylim()[1]])"
   ]
  },
  {
   "cell_type": "markdown",
   "id": "c0aca79d",
   "metadata": {},
   "source": [
    "<!-- END QUESTION -->\n",
    "\n",
    "You should see that the graph has an *elbow* at 4, where it switches from decreasing rapidly to decreasing slowly.\n",
    "\n",
    "As we provide more centers, the total WCSS should keep decreasing, so we cannot just look for the minimum. \n",
    "We can try to compensate for this effect by multiplying the WCSS by the number of centers.\n",
    "\n",
    "The following plot does this, and should show a kink at 4."
   ]
  },
  {
   "cell_type": "code",
   "execution_count": null,
   "id": "9a9bb8df",
   "metadata": {},
   "outputs": [],
   "source": [
    "plt.plot(klist,[WCSS_array[i]*klist[i] for i in range(len(klist))])\n",
    "plt.ylim([0,plt.ylim()[1]])"
   ]
  },
  {
   "cell_type": "code",
   "execution_count": null,
   "id": "1b1c0714",
   "metadata": {},
   "outputs": [],
   "source": []
  },
  {
   "cell_type": "markdown",
   "id": "b7ef2fcb",
   "metadata": {
    "deletable": false,
    "editable": false
   },
   "source": [
    "## Submission\n",
    "\n",
    "Make sure you have run all cells in your notebook in order before running the cell below, so that all images/graphs appear in the output. The cell below will generate a zip file for you to submit. **Please save before exporting!**\n",
    "\n",
    "After saving and exporting, submit the .zip file in BlackBoard"
   ]
  },
  {
   "cell_type": "code",
   "execution_count": null,
   "id": "25e91b75",
   "metadata": {
    "deletable": false,
    "editable": false
   },
   "outputs": [],
   "source": [
    "# Save your notebook first, then run this cell to export your submission.\n",
    "grader.export(run_tests=True)"
   ]
  },
  {
   "cell_type": "markdown",
   "id": "bcae04f3",
   "metadata": {},
   "source": [
    " "
   ]
  }
 ],
 "metadata": {
  "kernelspec": {
   "display_name": "Python 3 (ipykernel)",
   "language": "python",
   "name": "python3"
  },
  "language_info": {
   "codemirror_mode": {
    "name": "ipython",
    "version": 3
   },
   "file_extension": ".py",
   "mimetype": "text/x-python",
   "name": "python",
   "nbconvert_exporter": "python",
   "pygments_lexer": "ipython3",
   "version": "3.10.6"
  },
  "otter": {
   "OK_FORMAT": true,
   "tests": {
    "q1_1": {
     "name": "q1_1",
     "points": null,
     "suites": [
      {
       "cases": [
        {
         "code": ">>> len(one_tbl_mean) == 2\nTrue",
         "hidden": false,
         "locked": false
        },
        {
         "code": ">>> np.allclose(one_tbl_mean,[ 0.91836241,  4.28915972],atol=1e-4) \nTrue",
         "hidden": false,
         "locked": false
        }
       ],
       "scored": true,
       "setup": "",
       "teardown": "",
       "type": "doctest"
      }
     ]
    },
    "q1_2": {
     "name": "q1_2",
     "points": null,
     "suites": [
      {
       "cases": [
        {
         "code": ">>> type(center_is_mean) == bool\nTrue",
         "hidden": false,
         "locked": false
        }
       ],
       "scored": true,
       "setup": "",
       "teardown": "",
       "type": "doctest"
      }
     ]
    },
    "q1_3": {
     "name": "q1_3",
     "points": null,
     "suites": [
      {
       "cases": [
        {
         "code": ">>> type(one_WCSS) == np.float64\nTrue",
         "hidden": false,
         "locked": false
        },
        {
         "code": ">>> np.isclose(one_WCSS,216.84798541457008)\nTrue",
         "hidden": false,
         "locked": false
        }
       ],
       "scored": true,
       "setup": "",
       "teardown": "",
       "type": "doctest"
      }
     ]
    },
    "q2_1": {
     "name": "q2_1",
     "points": null,
     "suites": [
      {
       "cases": [
        {
         "code": ">>> len(four_all_wcss) == 4\nTrue",
         "hidden": false,
         "locked": false
        },
        {
         "code": ">>> np.allclose(sorted(four_all_wcss),sorted([ 47.79910348,  59.44378017,  51.4738381 ,  53.28927447]),atol=1e-4)\nTrue",
         "hidden": false,
         "locked": false
        }
       ],
       "scored": true,
       "setup": "",
       "teardown": "",
       "type": "doctest"
      }
     ]
    }
   }
  }
 },
 "nbformat": 4,
 "nbformat_minor": 5
}
